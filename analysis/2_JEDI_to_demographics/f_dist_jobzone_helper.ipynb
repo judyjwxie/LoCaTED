{
 "cells": [
  {
   "cell_type": "code",
   "execution_count": 1,
   "metadata": {},
   "outputs": [],
   "source": [
    "# packages\n",
    "import pandas as pd\n",
    "import numpy as np\n",
    "import matplotlib\n",
    "import matplotlib.pyplot as plt\n",
    "import seaborn as sns\n",
    "import glob\n",
    "from matplotlib.patches import Patch\n",
    "from matplotlib.lines import Line2D\n",
    "from sklearn.model_selection import train_test_split \n",
    "from sklearn.linear_model import LinearRegression\n",
    "from sklearn import metrics"
   ]
  },
  {
   "cell_type": "code",
   "execution_count": 8,
   "metadata": {},
   "outputs": [],
   "source": [
    "def calc_jobzone_dist_emp(JEDI_output,this_state):\n",
    "    onet_jobzones = pd.read_excel(r\"../ONET/ONET_Job_Zones_All_States.xlsx\")\n",
    "    state_name = pd.read_excel(r\"../Census/State_Abbr.xlsx\")\n",
    "    \n",
    "    JEDI_output_state = JEDI_output.query(\"state==@this_state\") # state abbreviations\n",
    "    JEDI_output_state = JEDI_output_state.set_index('i')     \n",
    "    JEDI_output_state = JEDI_output_state.drop(columns=\"state\")\n",
    "    JEDI_output_state = JEDI_output_state.transpose()\n",
    "    all_years = JEDI_output_state.columns\n",
    "    JEDI_output_state[\"Type\"] = \"Total\"\n",
    "    \n",
    "    state_full = state_name.query(\"Abbr==@this_state\").iloc[0,0]\n",
    "    onet_jobzones_state = onet_jobzones.query(\"State == @state_full\")\n",
    "    onet_jobzones_state = onet_jobzones_state.set_index(\"JEDI_Industries\")\n",
    "    onet_jobzones_state = onet_jobzones_state.drop(columns=\"State\")\n",
    "    \n",
    "    # Separate everything by each job zone\n",
    "    for zone in [1,2,3,4,5]:\n",
    "        this_zone = onet_jobzones_state[zone]\n",
    "        this_zone_calc = pd.merge(JEDI_output_state,this_zone, left_index=True,right_index=True)\n",
    "        for year in JEDI_output_state.columns[:-1]:\n",
    "            this_zone_calc[year] = this_zone_calc[year] * this_zone_calc[zone]/100\n",
    "        this_zone_calc[\"Type\"] = zone\n",
    "        this_zone_calc = this_zone_calc.drop(columns = zone)\n",
    "\n",
    "        if zone == 1:\n",
    "            all_zones_calc = this_zone_calc\n",
    "        else:\n",
    "            all_zones_calc = all_zones_calc.append(this_zone_calc)\n",
    "    \n",
    "    return all_zones_calc"
   ]
  },
  {
   "cell_type": "code",
   "execution_count": null,
   "metadata": {},
   "outputs": [],
   "source": []
  }
 ],
 "metadata": {
  "kernelspec": {
   "display_name": "Python 3",
   "language": "python",
   "name": "python3"
  },
  "language_info": {
   "codemirror_mode": {
    "name": "ipython",
    "version": 3
   },
   "file_extension": ".py",
   "mimetype": "text/x-python",
   "name": "python",
   "nbconvert_exporter": "python",
   "pygments_lexer": "ipython3",
   "version": "3.8.5"
  }
 },
 "nbformat": 4,
 "nbformat_minor": 4
}
