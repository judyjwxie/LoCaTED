{
 "cells": [
  {
   "cell_type": "code",
   "execution_count": 1,
   "metadata": {},
   "outputs": [],
   "source": [
    "# packages\n",
    "import pandas as pd\n",
    "import numpy as np\n",
    "import matplotlib\n",
    "import matplotlib.pyplot as plt\n",
    "import seaborn as sns\n",
    "import glob\n",
    "from matplotlib.patches import Patch\n",
    "from matplotlib.lines import Line2D\n",
    "from sklearn.model_selection import train_test_split \n",
    "from sklearn.linear_model import LinearRegression\n",
    "from sklearn import metrics"
   ]
  },
  {
   "cell_type": "code",
   "execution_count": 2,
   "metadata": {},
   "outputs": [],
   "source": [
    "import warnings\n",
    "warnings.filterwarnings('ignore')"
   ]
  },
  {
   "cell_type": "code",
   "execution_count": 3,
   "metadata": {},
   "outputs": [],
   "source": [
    "from ipynb.fs.full.f_dist_jobzone_helper import calc_jobzone_dist_emp"
   ]
  },
  {
   "cell_type": "code",
   "execution_count": 4,
   "metadata": {},
   "outputs": [],
   "source": [
    "def calc_jobzone_impact(sc,analysis):\n",
    "    scenario = \"StdScen21_\"+sc+\"_annual_state_\"+analysis\n",
    "    JEDI_name = pd.read_excel(r\"../Census/census_to_JEDI.xlsx\",sheet_name = \"JEDI\")\n",
    "    JEDI_result = pd.read_csv(r\"../ReEDS_to_Jobs/output/JEDI_output_\"+scenario+\".csv\") # CHANGE THIS\n",
    "    \n",
    "    list_of_states = JEDI_result[\"state\"].unique()\n",
    "    for m in list_of_states:\n",
    "        these_jobs = calc_jobzone_dist_emp(JEDI_result,m)\n",
    "        these_jobs[\"state\"] = m\n",
    "        if m == list_of_states[0]:\n",
    "            all_jobs_zones = these_jobs\n",
    "        else:\n",
    "            all_jobs_zones = all_jobs_zones.append(these_jobs)\n",
    "    \n",
    "    bls_age = pd.read_csv(r\"../BLS_Age/BLS_Age_by_Industry.csv\")\n",
    "    \n",
    "    mismatch_jobs_consolidate = all_jobs_zones.copy().reset_index()\n",
    "    mismatch_jobs_consolidate[\"Retire\"] = 0\n",
    "    for this_sector in mismatch_jobs_consolidate[\"index\"].unique():\n",
    "        this_ret_age = bls_age.query(\"JEDI_Industries == @this_sector\")\n",
    "        ret_perc = this_ret_age[\"35 to 44\"].iloc[0] + this_ret_age[\"45 to 54\"].iloc[0] + this_ret_age[\"55 to 64\"].iloc[0] + this_ret_age[\"65 over\"].iloc[0]\n",
    "        mismatch_jobs_consolidate[\"Retire\"][mismatch_jobs_consolidate[\"index\"] == this_sector] = mismatch_jobs_consolidate[2022] * ret_perc\n",
    "    mismatch_jobs_consolidate[\"Remaining\"] = mismatch_jobs_consolidate[2022] - mismatch_jobs_consolidate[\"Retire\"]\n",
    "    mismatch_jobs_consolidate[\"Mismatch_1Y\"] = mismatch_jobs_consolidate[2050] - mismatch_jobs_consolidate[\"Remaining\"]\n",
    "    mismatch_jobs_consolidate[\"Mismatch_5Y\"] = mismatch_jobs_consolidate[[2046,2047,2048,2049,2050]].mean(axis=1) - mismatch_jobs_consolidate[\"Remaining\"]\n",
    "    mismatch_jobs_consolidate[\"Mismatch_10Y\"] = mismatch_jobs_consolidate[[2041,2042,2043,2044,2045,2046,2047,2048,2049,2050]].mean(axis=1) - mismatch_jobs_consolidate[\"Remaining\"]\n",
    "\n",
    "    detailed_jobzones = mismatch_jobs_consolidate.copy().set_index(\"index\")\n",
    "    detailed_jobzones = detailed_jobzones[[2022,2050,\"Type\",\"state\",\"Retire\",\"Remaining\",\"Mismatch_1Y\",\"Mismatch_5Y\",\"Mismatch_10Y\"]]\n",
    "    detailed_jobzones[\"MismatchMult_1y\"] = detailed_jobzones[\"Mismatch_1Y\"]/detailed_jobzones[2022]\n",
    "    detailed_jobzones[\"MismatchMult_1y\"] = detailed_jobzones[\"MismatchMult_1y\"].replace(np.nan,0)\n",
    "    detailed_jobzones[\"MismatchMult_5y\"] = detailed_jobzones[\"Mismatch_5Y\"]/detailed_jobzones[2022]\n",
    "    detailed_jobzones[\"MismatchMult_5y\"] = detailed_jobzones[\"MismatchMult_5y\"].replace(np.nan,0)\n",
    "    detailed_jobzones[\"MismatchMult_10y\"] = detailed_jobzones[\"Mismatch_10Y\"]/detailed_jobzones[2022]\n",
    "    detailed_jobzones[\"MismatchMult_10y\"] = detailed_jobzones[\"MismatchMult_10y\"].replace(np.nan,0)\n",
    "    detailed_jobzones.to_csv(r\"output/Dist_detailedjobzones_\"+scenario+\".csv\")"
   ]
  },
  {
   "cell_type": "code",
   "execution_count": 4,
   "metadata": {},
   "outputs": [],
   "source": [
    "\"\"\"\n",
    "sc = \"Low_RE_Cost_95_by_2035\"\n",
    "analysis = \"v6.2jedi_mid\"\n",
    "scenario = \"StdScen21_\"+sc+\"_annual_state_\"+analysis\n",
    "JEDI_name = pd.read_excel(r\"../Census/census_to_JEDI.xlsx\",sheet_name = \"JEDI\")\n",
    "JEDI_result = pd.read_csv(r\"../ReEDS_to_Jobs/output/JEDI_output_\"+scenario+\".csv\") # CHANGE THIS\n",
    "    \n",
    "list_of_states = JEDI_result[\"state\"].unique()\n",
    "for m in list_of_states:\n",
    "    these_jobs = calc_jobzone_dist_emp(JEDI_result,m)\n",
    "    these_jobs[\"state\"] = m\n",
    "    if m == list_of_states[0]:\n",
    "        all_jobs_zones = these_jobs\n",
    "    else:\n",
    "        all_jobs_zones = all_jobs_zones.append(these_jobs)\n",
    "    \n",
    "bls_age = pd.read_csv(r\"../BLS_Age/BLS_Age_by_Industry.csv\")\n",
    "\n",
    "mismatch_jobs_consolidate = all_jobs_zones.copy().reset_index()\n",
    "mismatch_jobs_consolidate[\"Retire\"] = 0\n",
    "for this_sector in mismatch_jobs_consolidate[\"index\"].unique():\n",
    "    this_ret_age = bls_age.query(\"JEDI_Industries == @this_sector\")\n",
    "    ret_perc = this_ret_age[\"35 to 44\"].iloc[0] + this_ret_age[\"45 to 54\"].iloc[0] + this_ret_age[\"55 to 64\"].iloc[0] + this_ret_age[\"65 over\"].iloc[0]\n",
    "    mismatch_jobs_consolidate[\"Retire\"][mismatch_jobs_consolidate[\"index\"] == this_sector] = mismatch_jobs_consolidate[2022] * ret_perc\n",
    "mismatch_jobs_consolidate[\"Remaining\"] = mismatch_jobs_consolidate[2022] - mismatch_jobs_consolidate[\"Retire\"]\n",
    "mismatch_jobs_consolidate[\"Mismatch_1Y\"] = mismatch_jobs_consolidate[2050] - mismatch_jobs_consolidate[\"Remaining\"]\n",
    "mismatch_jobs_consolidate[\"Mismatch_5Y\"] = mismatch_jobs_consolidate[[2046,2047,2048,2049,2050]].mean(axis=1) - mismatch_jobs_consolidate[\"Remaining\"]\n",
    "mismatch_jobs_consolidate[\"Mismatch_10Y\"] = mismatch_jobs_consolidate[[2041,2042,2043,2044,2045,2046,2047,2048,2049,2050]].mean(axis=1) - mismatch_jobs_consolidate[\"Remaining\"]\n",
    "    \n",
    "detailed_jobs = mismatch_jobs_consolidate.copy().set_index(\"index\")\n",
    "detailed_jobs = detailed_jobs[[2022,2050,\"Type\",\"state\",\"Retire\",\"Remaining\",\"Mismatch_1Y\",\"Mismatch_5Y\",\"Mismatch_10Y\"]]\n",
    "detailed_jobs[\"MismatchMult_1y\"] = detailed_jobs[\"Mismatch_1Y\"]/detailed_jobs[2022]\n",
    "detailed_jobs[\"MismatchMult_1y\"] = detailed_jobs[\"MismatchMult_1y\"].replace(np.nan,0)\n",
    "detailed_jobs[\"MismatchMult_5y\"] = detailed_jobs[\"Mismatch_5Y\"]/detailed_jobs[2022]\n",
    "detailed_jobs[\"MismatchMult_5y\"] = detailed_jobs[\"MismatchMult_5y\"].replace(np.nan,0)\n",
    "detailed_jobs[\"MismatchMult_10y\"] = detailed_jobs[\"Mismatch_10Y\"]/detailed_jobs[2022]\n",
    "detailed_jobs[\"MismatchMult_10y\"] = detailed_jobs[\"MismatchMult_10y\"].replace(np.nan,0)\n",
    "#detailed_jobs.to_csv(r\"output/Dist_detailedjobzones_\"+scenario+\".csv\")\n",
    "\"\"\""
   ]
  },
  {
   "cell_type": "code",
   "execution_count": null,
   "metadata": {},
   "outputs": [],
   "source": []
  }
 ],
 "metadata": {
  "kernelspec": {
   "display_name": "Python 3",
   "language": "python",
   "name": "python3"
  },
  "language_info": {
   "codemirror_mode": {
    "name": "ipython",
    "version": 3
   },
   "file_extension": ".py",
   "mimetype": "text/x-python",
   "name": "python",
   "nbconvert_exporter": "python",
   "pygments_lexer": "ipython3",
   "version": "3.8.5"
  }
 },
 "nbformat": 4,
 "nbformat_minor": 4
}
