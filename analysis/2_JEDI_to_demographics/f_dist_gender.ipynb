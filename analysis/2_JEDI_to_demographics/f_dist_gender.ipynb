{
 "cells": [
  {
   "cell_type": "code",
   "execution_count": 1,
   "metadata": {},
   "outputs": [],
   "source": [
    "# packages\n",
    "import pandas as pd\n",
    "import numpy as np\n",
    "import matplotlib\n",
    "import matplotlib.pyplot as plt\n",
    "import seaborn as sns\n",
    "import glob\n",
    "from matplotlib.patches import Patch\n",
    "from matplotlib.lines import Line2D"
   ]
  },
  {
   "cell_type": "code",
   "execution_count": 2,
   "metadata": {},
   "outputs": [],
   "source": [
    "from ipynb.fs.full.f_dist_gender_helper import calc_gender_dist_emp"
   ]
  },
  {
   "cell_type": "code",
   "execution_count": 3,
   "metadata": {},
   "outputs": [],
   "source": [
    "def calc_gender_impact(sc,analysis):\n",
    "    \n",
    "    \"\"\"\n",
    "    Example:\n",
    "    sc = \"Low_RE_Cost_95_by_2035\"\n",
    "    analysis = \"v3.5jedi\"\n",
    "    \"\"\"\n",
    "\n",
    "    scenario = \"StdScen21_\"+sc+\"_annual_state_\"+analysis\n",
    "    state_name = pd.read_excel(r\"../Census/State_Abbr.xlsx\")\n",
    "    JEDI_result = pd.read_csv(r\"../ReEDS_to_Jobs/output/JEDI_output_\"+scenario+\".csv\")\n",
    "    list_of_states = JEDI_result[\"state\"].unique()\n",
    "\n",
    "    # calculate mid-case, lower bound, upper bound\n",
    "    for case in [\"mid\",\"lb\",\"ub\"]:\n",
    "        for m in list_of_states:\n",
    "            JEDI_output_state = JEDI_result.query(\"state==@m\")\n",
    "            JEDI_output_state = JEDI_output_state.set_index('i')       \n",
    "            JEDI_output_state = JEDI_output_state.drop(columns=\"state\")\n",
    "            JEDI_output_state = JEDI_output_state.transpose()\n",
    "            state_full = state_name.query(\"Abbr==@m\").iloc[0,0]\n",
    "            jobs_sum = calc_gender_dist_emp(JEDI_output_state,state_full,case)\n",
    "\n",
    "            jobs_sum[\"state\"] = m\n",
    "            if m == \"AL\":\n",
    "                all_jobs = jobs_sum.copy()\n",
    "            else:\n",
    "                all_jobs = all_jobs.append(jobs_sum)\n",
    "\n",
    "        all_jobs[\"case\"] = case\n",
    "        if case == \"mid\":\n",
    "            all_jobs_cases = all_jobs.copy()\n",
    "        else:\n",
    "            all_jobs_cases = all_jobs_cases.append(all_jobs)\n",
    "\n",
    "    # calculate the national impact\n",
    "    all_jobs_national = all_jobs_cases.copy()\n",
    "    all_jobs_national = all_jobs_national.reset_index()\n",
    "    all_jobs_national = all_jobs_national.groupby([\"i\",\"case\"]).sum()\n",
    "    all_jobs_national[\"f_perc\"] = all_jobs_national[\"Female\"]/all_jobs_national[\"Total\"]*100\n",
    "    all_jobs_national[\"state\"] = \"US\"\n",
    "    all_jobs_national = all_jobs_national.reset_index().set_index(\"i\")\n",
    "\n",
    "    # export all raw data\n",
    "    all_jobs_cases_combined = all_jobs_cases.append(all_jobs_national)\n",
    "    all_jobs_cases_combined.to_excel(r\"output/Dist_gender_\"+scenario+\".xlsx\")\n",
    "\n",
    "    # export all analysed data \n",
    "    for case in [\"mid\",\"lb\",\"ub\"]:\n",
    "        all_jobs_female = all_jobs_cases_combined.copy().reset_index()\n",
    "        all_jobs_female = all_jobs_female.query(\"case==@case\")\n",
    "        all_jobs_female = all_jobs_female.pivot(index=\"state\", columns = \"i\", values = \"f_perc\")\n",
    "        all_jobs_female[\"EmpChange_1Y\"] = all_jobs_female[2050]/all_jobs_female[2022]*100 - 100\n",
    "        all_jobs_female[\"EmpChange_5Y\"] = (all_jobs_female[[2046,2047,2048,2049,2050]].mean(axis=1))/all_jobs_female[2022]*100-100\n",
    "        all_jobs_female[\"EmpChange_10Y\"] = (all_jobs_female[[2041,2042,2043,2044,2045,2046,2047,2048,2049,2050]].mean(axis=1))/all_jobs_female[2022]*100-100\n",
    "        all_jobs_female[\"20s\"] = all_jobs_female[[2022,2023,2024,2025,2026,2027,2028,2029,2030]].mean(axis=1)\n",
    "        all_jobs_female[\"40s\"] = all_jobs_female[[2041,2042,2043,2044,2045,2046,2047,2048,2049,2050]].mean(axis=1)\n",
    "        all_jobs_female[\"EmpChange_dec\"] = all_jobs_female[\"40s\"]/all_jobs_female[\"20s\"]*100 - 100\n",
    "        all_jobs_female.to_csv(r\"output/Dist_female_\"+scenario+\"_\"+case+\".csv\")"
   ]
  },
  {
   "cell_type": "code",
   "execution_count": 4,
   "metadata": {},
   "outputs": [
    {
     "data": {
      "text/plain": [
       "'\\nsc = \"Low_RE_Cost_95_by_2035\"\\nanalysis = \"v6.2jedi_mid\"\\nscenario = \"StdScen21_\"+sc+\"_annual_state_\"+analysis\\nstate_name = pd.read_excel(r\"../Census/State_Abbr.xlsx\")\\nJEDI_result = pd.read_csv(r\"../ReEDS_to_Jobs/output/JEDI_output_\"+scenario+\".csv\")\\nlist_of_states = JEDI_result[\"state\"].unique()\\n\\n    # calculate mid-case, lower bound, upper bound\\nfor case in [\"mid\",\"lb\",\"ub\"]:\\n    for m in list_of_states:\\n        JEDI_output_state = JEDI_result.query(\"state==@m\")\\n        JEDI_output_state = JEDI_output_state.set_index(\\'i\\')       \\n        JEDI_output_state = JEDI_output_state.drop(columns=\"state\")\\n        JEDI_output_state = JEDI_output_state.transpose()\\n        state_full = state_name.query(\"Abbr==@m\").iloc[0,0]\\n        jobs_sum = calc_gender_dist_emp(JEDI_output_state,state_full,case)\\n\\n        jobs_sum[\"state\"] = m\\n        if m == \"AL\":\\n            all_jobs = jobs_sum.copy()\\n        else:\\n            all_jobs = all_jobs.append(jobs_sum)\\n\\n    all_jobs[\"case\"] = case\\n    if case == \"mid\":\\n        all_jobs_cases = all_jobs.copy()\\n    else:\\n        all_jobs_cases = all_jobs_cases.append(all_jobs)\\n\\n    # calculate the national impact\\nall_jobs_national = all_jobs_cases.copy()\\nall_jobs_national = all_jobs_national.reset_index()\\nall_jobs_national = all_jobs_national.groupby([\"i\",\"case\"]).sum()\\nall_jobs_national[\"f_perc\"] = all_jobs_national[\"Female\"]/all_jobs_national[\"Total\"]*100\\nall_jobs_national[\"state\"] = \"US\"\\nall_jobs_national = all_jobs_national.reset_index().set_index(\"i\")\\n\\n    # export all raw data\\nall_jobs_cases_combined = all_jobs_cases.append(all_jobs_national)\\n    #all_jobs_cases_combined.to_excel(r\"output/Dist_gender_\"+scenario+\".xlsx\")\\n\\n    # export all analysed data \\nfor case in [\"mid\",\"lb\",\"ub\"]:\\n    all_jobs_female = all_jobs_cases_combined.copy().reset_index()\\n    all_jobs_female = all_jobs_female.query(\"case==@case\")\\n    all_jobs_female = all_jobs_female.pivot(index=\"state\", columns = \"i\", values = \"f_perc\")\\n    all_jobs_female[\"EmpChange_1Y\"] = all_jobs_female[2050]/all_jobs_female[2022]*100 - 100\\n    all_jobs_female[\"EmpChange_5Y\"] = (all_jobs_female[[2046,2047,2048,2049,2050]].mean(axis=1))/all_jobs_female[2022]*100-100\\n    all_jobs_female[\"EmpChange_10Y\"] = (all_jobs_female[[2041,2042,2043,2044,2045,2046,2047,2048,2049,2050]].mean(axis=1))/all_jobs_female[2022]*100-100\\n    all_jobs_female[\"20s\"] = all_jobs_female[[2022,2023,2024,2025,2026,2027,2028,2029,2030]].mean(axis=1)\\n    all_jobs_female[\"40s\"] = all_jobs_female[[2041,2042,2043,2044,2045,2046,2047,2048,2049,2050]].mean(axis=1)\\n    all_jobs_female[\"EmpChange_dec\"] = all_jobs_female[\"40s\"]/all_jobs_female[\"20s\"]*100 - 100\\n'"
      ]
     },
     "execution_count": 4,
     "metadata": {},
     "output_type": "execute_result"
    }
   ],
   "source": [
    "\"\"\"\n",
    "sc = \"Low_RE_Cost_95_by_2035\"\n",
    "analysis = \"v6.2jedi_mid\"\n",
    "scenario = \"StdScen21_\"+sc+\"_annual_state_\"+analysis\n",
    "state_name = pd.read_excel(r\"../Census/State_Abbr.xlsx\")\n",
    "JEDI_result = pd.read_csv(r\"../ReEDS_to_Jobs/output/JEDI_output_\"+scenario+\".csv\")\n",
    "list_of_states = JEDI_result[\"state\"].unique()\n",
    "\n",
    "    # calculate mid-case, lower bound, upper bound\n",
    "for case in [\"mid\",\"lb\",\"ub\"]:\n",
    "    for m in list_of_states:\n",
    "        JEDI_output_state = JEDI_result.query(\"state==@m\")\n",
    "        JEDI_output_state = JEDI_output_state.set_index('i')       \n",
    "        JEDI_output_state = JEDI_output_state.drop(columns=\"state\")\n",
    "        JEDI_output_state = JEDI_output_state.transpose()\n",
    "        state_full = state_name.query(\"Abbr==@m\").iloc[0,0]\n",
    "        jobs_sum = calc_gender_dist_emp(JEDI_output_state,state_full,case)\n",
    "\n",
    "        jobs_sum[\"state\"] = m\n",
    "        if m == \"AL\":\n",
    "            all_jobs = jobs_sum.copy()\n",
    "        else:\n",
    "            all_jobs = all_jobs.append(jobs_sum)\n",
    "\n",
    "    all_jobs[\"case\"] = case\n",
    "    if case == \"mid\":\n",
    "        all_jobs_cases = all_jobs.copy()\n",
    "    else:\n",
    "        all_jobs_cases = all_jobs_cases.append(all_jobs)\n",
    "\n",
    "    # calculate the national impact\n",
    "all_jobs_national = all_jobs_cases.copy()\n",
    "all_jobs_national = all_jobs_national.reset_index()\n",
    "all_jobs_national = all_jobs_national.groupby([\"i\",\"case\"]).sum()\n",
    "all_jobs_national[\"f_perc\"] = all_jobs_national[\"Female\"]/all_jobs_national[\"Total\"]*100\n",
    "all_jobs_national[\"state\"] = \"US\"\n",
    "all_jobs_national = all_jobs_national.reset_index().set_index(\"i\")\n",
    "\n",
    "    # export all raw data\n",
    "all_jobs_cases_combined = all_jobs_cases.append(all_jobs_national)\n",
    "    #all_jobs_cases_combined.to_excel(r\"output/Dist_gender_\"+scenario+\".xlsx\")\n",
    "\n",
    "    # export all analysed data \n",
    "for case in [\"mid\",\"lb\",\"ub\"]:\n",
    "    all_jobs_female = all_jobs_cases_combined.copy().reset_index()\n",
    "    all_jobs_female = all_jobs_female.query(\"case==@case\")\n",
    "    all_jobs_female = all_jobs_female.pivot(index=\"state\", columns = \"i\", values = \"f_perc\")\n",
    "    all_jobs_female[\"EmpChange_1Y\"] = all_jobs_female[2050]/all_jobs_female[2022]*100 - 100\n",
    "    all_jobs_female[\"EmpChange_5Y\"] = (all_jobs_female[[2046,2047,2048,2049,2050]].mean(axis=1))/all_jobs_female[2022]*100-100\n",
    "    all_jobs_female[\"EmpChange_10Y\"] = (all_jobs_female[[2041,2042,2043,2044,2045,2046,2047,2048,2049,2050]].mean(axis=1))/all_jobs_female[2022]*100-100\n",
    "    all_jobs_female[\"20s\"] = all_jobs_female[[2022,2023,2024,2025,2026,2027,2028,2029,2030]].mean(axis=1)\n",
    "    all_jobs_female[\"40s\"] = all_jobs_female[[2041,2042,2043,2044,2045,2046,2047,2048,2049,2050]].mean(axis=1)\n",
    "    all_jobs_female[\"EmpChange_dec\"] = all_jobs_female[\"40s\"]/all_jobs_female[\"20s\"]*100 - 100\n",
    "\"\"\""
   ]
  },
  {
   "cell_type": "code",
   "execution_count": null,
   "metadata": {},
   "outputs": [],
   "source": []
  }
 ],
 "metadata": {
  "kernelspec": {
   "display_name": "Python 3",
   "language": "python",
   "name": "python3"
  },
  "language_info": {
   "codemirror_mode": {
    "name": "ipython",
    "version": 3
   },
   "file_extension": ".py",
   "mimetype": "text/x-python",
   "name": "python",
   "nbconvert_exporter": "python",
   "pygments_lexer": "ipython3",
   "version": "3.8.5"
  }
 },
 "nbformat": 4,
 "nbformat_minor": 4
}
