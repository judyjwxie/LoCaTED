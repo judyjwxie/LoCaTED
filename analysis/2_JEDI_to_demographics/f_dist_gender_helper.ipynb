{
 "cells": [
  {
   "cell_type": "code",
   "execution_count": 1,
   "metadata": {},
   "outputs": [],
   "source": [
    "# packages\n",
    "import pandas as pd\n",
    "import numpy as np\n",
    "import matplotlib\n",
    "import matplotlib.pyplot as plt\n",
    "import seaborn as sns\n",
    "import glob\n",
    "from matplotlib.patches import Patch\n",
    "from matplotlib.lines import Line2D"
   ]
  },
  {
   "cell_type": "code",
   "execution_count": null,
   "metadata": {},
   "outputs": [],
   "source": [
    "def calc_gender_dist_emp(JEDI_output,this_state,f_type):\n",
    "    \n",
    "    census_sex = pd.read_excel(r\"../../data/demographics/census_sex_compile_5Y_2020.xlsx\")\n",
    "    JEDI_name = pd.read_excel(r\"../../data/demographics/census_to_JEDI.xlsx\",sheet_name = \"JEDI\")\n",
    "    \n",
    "    all_years = JEDI_output.columns\n",
    "    JEDI_output[\"Type\"] = \"Total\"\n",
    "\n",
    "    census_sex_state = pd.merge(census_sex.query(\"State == @this_state\"), JEDI_name, left_on = \"JEDI_Index\", right_on = \"JEDI_Index\")\n",
    "    census_sex_state = census_sex_state.set_index(\"JEDI_Industries\")\n",
    "\n",
    "    s = \"Female\"\n",
    "    JEDI_output_this = JEDI_output.copy()\n",
    "    if f_type == \"mid\":\n",
    "        JEDI_output_this[\"p\"] = census_sex_state[s+\"_Perc\"]\n",
    "    elif f_type == \"ub\":\n",
    "        JEDI_output_this[\"p\"] = census_sex_state[s+\"_Perc\"] + census_sex_state[s+\"_Perc_MoE\"]\n",
    "    elif f_type == \"lb\":\n",
    "        JEDI_output_this[\"p\"] = census_sex_state[s+\"_Perc\"] - census_sex_state[s+\"_Perc_MoE\"]\n",
    "    for y in all_years:\n",
    "        JEDI_output_this[y] = JEDI_output_this[y]*JEDI_output_this['p']\n",
    "    JEDI_output_this[\"Type\"]= s\n",
    "    JEDI_output_this = JEDI_output_this.drop(columns = \"p\")\n",
    "    JEDI_output_all = JEDI_output.append(JEDI_output_this)\n",
    "\n",
    "    f_jobs = JEDI_output_all.query(\"Type == 'Female'\")\n",
    "    f_jobs_sum = f_jobs.sum(axis=0)\n",
    "    f_jobs_sum[\"Type\"] = \"Female\"\n",
    "    f_jobs_sum = f_jobs_sum.to_frame().transpose()\n",
    "\n",
    "    t_jobs = JEDI_output_all.query(\"Type == 'Total'\")\n",
    "    t_jobs_sum = t_jobs.sum(axis=0)\n",
    "    t_jobs_sum[\"Type\"] = \"Total\"\n",
    "    t_jobs_sum = t_jobs_sum.to_frame().transpose()\n",
    "\n",
    "    all_jobs_sum = f_jobs_sum.append(t_jobs_sum).set_index(\"Type\")\n",
    "    all_jobs_sum = all_jobs_sum.transpose()\n",
    "    all_jobs_sum[\"f_perc\"] = all_jobs_sum[\"Female\"]/all_jobs_sum[\"Total\"]*100\n",
    "    \n",
    "    return all_jobs_sum"
   ]
  }
 ],
 "metadata": {
  "kernelspec": {
   "display_name": "Python 3",
   "language": "python",
   "name": "python3"
  },
  "language_info": {
   "codemirror_mode": {
    "name": "ipython",
    "version": 3
   },
   "file_extension": ".py",
   "mimetype": "text/x-python",
   "name": "python",
   "nbconvert_exporter": "python",
   "pygments_lexer": "ipython3",
   "version": "3.8.5"
  }
 },
 "nbformat": 4,
 "nbformat_minor": 4
}
