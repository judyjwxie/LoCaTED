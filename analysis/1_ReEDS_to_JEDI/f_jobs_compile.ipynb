{
 "cells": [
  {
   "cell_type": "code",
   "execution_count": 1,
   "metadata": {},
   "outputs": [],
   "source": [
    "# packages\n",
    "import pandas as pd\n",
    "import numpy as np\n",
    "import matplotlib\n",
    "import matplotlib.pyplot as plt\n",
    "import seaborn as sns\n",
    "import glob\n",
    "from matplotlib.patches import Patch\n",
    "from matplotlib.lines import Line2D"
   ]
  },
  {
   "cell_type": "code",
   "execution_count": 2,
   "metadata": {},
   "outputs": [],
   "source": [
    "def jobs_compile(sc,analysis):\n",
    "    \"\"\"\n",
    "    E.g. sc = \"Low_RE_Cost\", analysis = \"v3.5jedi\"\n",
    "    \"\"\"\n",
    "    scenario = \"StdScen21_\"+sc+\"_annual_state\"\n",
    "    raw_jobs = pd.read_csv(r\"output/JEDI_output_\"+scenario+\"_\"+analysis+\"_both_pt.csv\")\n",
    "    raw_jobs = raw_jobs.rename(columns = {\"Unnamed: 0\":\"i\"})\n",
    "    \n",
    "    jedi_jobs = raw_jobs.copy()\n",
    "    jedi_jobs = jedi_jobs.groupby([\"i\",\"state\"]).sum()\n",
    "    jedi_jobs = jedi_jobs.reset_index()\n",
    "    jedi_jobs = jedi_jobs.set_index(\"i\")\n",
    "    \n",
    "    jedi_jobs.to_csv(r\"output/JEDI_output_\"+scenario+\"_\"+analysis+\".csv\")"
   ]
  }
 ],
 "metadata": {
  "kernelspec": {
   "display_name": "Python 3",
   "language": "python",
   "name": "python3"
  },
  "language_info": {
   "codemirror_mode": {
    "name": "ipython",
    "version": 3
   },
   "file_extension": ".py",
   "mimetype": "text/x-python",
   "name": "python",
   "nbconvert_exporter": "python",
   "pygments_lexer": "ipython3",
   "version": "3.8.5"
  }
 },
 "nbformat": 4,
 "nbformat_minor": 4
}
