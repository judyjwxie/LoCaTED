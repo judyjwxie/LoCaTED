{
 "cells": [
  {
   "cell_type": "code",
   "execution_count": 1,
   "metadata": {},
   "outputs": [],
   "source": [
    "import pandas as pd\n",
    "import numpy as np\n",
    "import matplotlib\n",
    "import matplotlib.pyplot as plt\n",
    "import seaborn as sns\n",
    "import glob\n",
    "import os, os.path\n",
    "from datetime import datetime"
   ]
  },
  {
   "cell_type": "code",
   "execution_count": 2,
   "metadata": {},
   "outputs": [],
   "source": [
    "import warnings\n",
    "warnings.filterwarnings('ignore')"
   ]
  },
  {
   "cell_type": "code",
   "execution_count": 3,
   "metadata": {},
   "outputs": [],
   "source": [
    "from ipynb.fs.full.f_jobs_compile import jobs_compile\n",
    "from ipynb.fs.full.f_trade_post_treatment import calc_trade_post_treatment"
   ]
  },
  {
   "cell_type": "code",
   "execution_count": 4,
   "metadata": {},
   "outputs": [],
   "source": [
    "import time\n",
    "start_time = time.time()"
   ]
  },
  {
   "cell_type": "code",
   "execution_count": 5,
   "metadata": {},
   "outputs": [],
   "source": [
    "orig_scen = [\"Low_RE_Cost\",\"Mid_Case\",\"High_RE_Cost\",\"Low_Trans\",\"High_Trans\",\"Low_Everything\",\n",
    "             \"Low_NG_Price\",\"Low_Nuclear_CCS_Cost\",\"PTC_ITC_Ext\",\"Reduced_RE_Resource\",\n",
    "            \"Mid_Case_Base_Flex\",\"Low_Demand_Growth\"]\n",
    "sc_list = orig_scen.copy()\n",
    "for os in orig_scen:\n",
    "    new1 = os+\"_95_by_2050\"\n",
    "    new2 = os+\"_95_by_2035\"\n",
    "    sc_list += [new1]\n",
    "    sc_list += [new2]\n",
    "\n",
    "#analysis_list = [\"v6.2jedi_mid\",\"v6.2jedi_low\",\"v6.2jedi_high\"]\n",
    "analysis_list = [\"v6.2nei_mid\",\"v6.2nei_low\",\"v6.2nei_high\"]\n",
    "\n",
    "for sc in sc_list:\n",
    "    for analysis in analysis_list:\n",
    "        calc_trade_post_treatment(sc,analysis)\n",
    "        jobs_compile(sc,analysis)\n",
    "        dateTimeObj = datetime.now()\n",
    "        timestamp = dateTimeObj.strftime(\"%d-%b-%Y (%H:%M:%S.%f)\")\n",
    "        content = timestamp+\"_\"+sc+\"_\"+analysis\n",
    "        file = open(r\"output/batch_post_treatment_report.txt\", \"a\")\n",
    "        file.write(content)\n",
    "        file.write(\"\\n\")\n",
    "        file.close()"
   ]
  },
  {
   "cell_type": "code",
   "execution_count": 6,
   "metadata": {},
   "outputs": [
    {
     "name": "stdout",
     "output_type": "stream",
     "text": [
      "20.82 minutes\n"
     ]
    }
   ],
   "source": [
    "end_time = time.time()\n",
    "print(str(round((end_time - start_time)/60,2)) + \" minutes\")"
   ]
  },
  {
   "cell_type": "code",
   "execution_count": null,
   "metadata": {},
   "outputs": [],
   "source": []
  }
 ],
 "metadata": {
  "kernelspec": {
   "display_name": "Python 3",
   "language": "python",
   "name": "python3"
  },
  "language_info": {
   "codemirror_mode": {
    "name": "ipython",
    "version": 3
   },
   "file_extension": ".py",
   "mimetype": "text/x-python",
   "name": "python",
   "nbconvert_exporter": "python",
   "pygments_lexer": "ipython3",
   "version": "3.8.5"
  }
 },
 "nbformat": 4,
 "nbformat_minor": 4
}
