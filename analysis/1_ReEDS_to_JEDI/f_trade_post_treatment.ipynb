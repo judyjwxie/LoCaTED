{
 "cells": [
  {
   "cell_type": "code",
   "execution_count": 2,
   "metadata": {},
   "outputs": [],
   "source": [
    "import pandas as pd\n",
    "import numpy as np\n",
    "import matplotlib\n",
    "import matplotlib.pyplot as plt\n",
    "import seaborn as sns\n",
    "import glob\n",
    "import os, os.path\n",
    "from matplotlib.patches import Patch\n",
    "from matplotlib.lines import Line2D"
   ]
  },
  {
   "cell_type": "markdown",
   "metadata": {},
   "source": [
    "### because the in between trade jobs were not accounted in the analysis"
   ]
  },
  {
   "cell_type": "code",
   "execution_count": 77,
   "metadata": {},
   "outputs": [],
   "source": [
    "def calc_trade_post_treatment(sc,analysis):\n",
    "    \"\"\"\n",
    "    sc = \"Mid_Case_95_by_2035\"\n",
    "    analysis = \"v6.2jedi_mid\"\n",
    "    \"\"\"\n",
    "    \n",
    "    scenario = \"StdScen21_\"+sc+\"_annual_state\"\n",
    "    raw_jobs = pd.read_csv(r\"output/JEDI_output_\"+scenario+\"_\"+analysis+\"_both.csv\")\n",
    "    year_col = raw_jobs.columns[raw_jobs.isin([2022]).any()]\n",
    "    raw_jobs = raw_jobs.rename(columns = {year_col[0]:\"i\"})\n",
    "    new_jobs = raw_jobs.copy()\n",
    "    new_jobs = new_jobs[new_jobs[\"tech\"] != \"ng-trade\"] \n",
    "    new_jobs = new_jobs[new_jobs[\"tech\"] != \"coal-trade\"]\n",
    "    new_jobs = new_jobs[new_jobs[\"tech\"] != \"rooftop pv\"]\n",
    "    new_jobs = new_jobs[new_jobs[\"tech\"] != \"utility pv\"]\n",
    "\n",
    "    for this_trade in [\"ng-trade\",\"coal-trade\"]:\n",
    "        this_trade_jobs = raw_jobs.copy().query(\"tech==@this_trade\")\n",
    "        for s in this_trade_jobs[\"state\"].unique():\n",
    "            this_state = this_trade_jobs.query(\"state==@s\")\n",
    "            these_years = this_state[\"i\"][1:]\n",
    "            new_trade_jobs = this_state.query(\"i == 2022\")\n",
    "            for this_year in these_years:\n",
    "                this_year = int(this_year) \n",
    "                if (this_year-1 not in these_years) and (this_year % 2 == 0):\n",
    "                    prev_year = this_year - 2\n",
    "                    this_year_line = this_state.query(\"i == @this_year\")\n",
    "                    prev_year_line = this_state.query(\"i == @prev_year\")\n",
    "                    these_lines = this_year_line.append(prev_year_line)\n",
    "                    between_lines = these_lines.groupby([\"state\",\"tech\",\"type\"]).mean().reset_index()\n",
    "                    new_trade_jobs = new_trade_jobs.append(between_lines).append(this_year_line)\n",
    "        \n",
    "        new_jobs = new_jobs.append(new_trade_jobs)\n",
    "    \n",
    "    sectors_col = raw_jobs.columns[1:-3]\n",
    "    for this_trade in [\"rooftop pv\",\"utility pv\"]:\n",
    "        this_trade_jobs = raw_jobs.query(\"tech==@this_trade\").copy()\n",
    "        new_trade_jobs = this_trade_jobs.copy()\n",
    "        new_trade_jobs[sectors_col] = this_trade_jobs[sectors_col]/100\n",
    "        new_jobs = new_jobs.append(new_trade_jobs)\n",
    "    \n",
    "    new_jobs = new_jobs.set_index(\"i\")\n",
    "    new_jobs.to_csv(r\"output/JEDI_output_\"+scenario+\"_\"+analysis+\"_both_pt.csv\")\n",
    "    \n",
    "    return new_jobs"
   ]
  }
