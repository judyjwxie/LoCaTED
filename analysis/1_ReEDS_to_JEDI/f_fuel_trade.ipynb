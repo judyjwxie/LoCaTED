{
 "cells": [
  {
   "cell_type": "code",
   "execution_count": 1,
   "metadata": {},
   "outputs": [],
   "source": [
    "# packages\n",
    "import pandas as pd\n",
    "import numpy as np\n",
    "import matplotlib\n",
    "import matplotlib.pyplot as plt\n",
    "import seaborn as sns\n",
    "import glob\n",
    "from matplotlib.patches import Patch\n",
    "from matplotlib.lines import Line2D"
   ]
  },
  {
   "cell_type": "code",
   "execution_count": 30,
   "metadata": {},
   "outputs": [],
   "source": [
    "ng_flow = pd.read_csv(r\"../../data/energy_system/fuel_production/resource_flow_ng.csv\")\n",
    "ng_jobs = pd.read_csv(r\"../../data/energy_system/nameplate_capacity/per_MWh_om_jobs_ng.csv\")\n",
    "ng_local = pd.read_excel(r\"../../data/energy_system/fuel_production/localshare_ng_state.xlsx\")\n",
    "coal_flow = pd.read_csv(r\"../../data/energy_system/fuel_production/resource_flow_coal.csv\")\n",
    "coal_jobs = pd.read_csv(r\"../../data/energy_system/nameplate_capacity/per_MWh_om_jobs_coal.csv\")\n",
    "coal_local = pd.read_excel(r\"../../data/energy_system/fuel_production/localshare_coal_state.xlsx\")\n",
    "state_names = pd.read_excel(r\"../../data/demographics/State_Abbr.xlsx\")"
   ]
  },
  {
   "cell_type": "code",
   "execution_count": 46,
   "metadata": {},
   "outputs": [],
   "source": [
    "def fuel_trade_jobs(state,fuel,MWH,year):\n",
    "    \n",
    "    \"\"\"\n",
    "    state = \"AL\"\n",
    "    fuel = \"ng-cc\"\n",
    "    MWH = 100\n",
    "    local_share = 0.2\n",
    "    year = 2050\n",
    "    \"\"\"\n",
    "    \n",
    "    full_name = state_names.query(\"Abbr==@state\")[\"State\"].iloc[0]\n",
    "    if fuel == \"coal\":\n",
    "        this_flow = coal_flow\n",
    "        this_jobs = coal_jobs\n",
    "        fuelname = \"coal\"\n",
    "        local_share = coal_local.query(\"Abbr ==@state\").iloc[0,-1]/100\n",
    "    else:\n",
    "        this_flow = ng_flow\n",
    "        this_jobs = ng_jobs\n",
    "        fuelname = \"ng\"\n",
    "        local_share = ng_local.query(\"Abbr ==@state\").iloc[0,-1]/100\n",
    "        \n",
    "    this_state_flow = this_flow.query(\"END==@full_name\")\n",
    "    this_state_flow = this_state_flow[this_state_flow[\"START\"]!=full_name]\n",
    "    trade_sum = this_state_flow[\"TON\"].sum()\n",
    "    this_state_flow[\"ratio\"] = this_state_flow[\"TON\"]/trade_sum\n",
    "    outsourced = MWH *(1-local_share) # fuel outsourced from other states\n",
    "    this_state_flow[\"usage\"] = this_state_flow[\"ratio\"]*outsourced # MWh of fuel sourced from this state\n",
    "\n",
    "    outsource_list = list(this_state_flow[\"START\"])\n",
    "    if len(outsource_list) == 0: # not on the list of trade states\n",
    "        all_state_jobs_trade = 0\n",
    "    else:\n",
    "        for o_state in outsource_list:\n",
    "            this_usage = this_state_flow.query(\"START==@o_state\")[\"usage\"].iloc[0]\n",
    "            ab_o_state = state_names.query(\"State==@o_state\")[\"Abbr\"].iloc[0]\n",
    "            trade_state_jobs_orig = this_jobs.query(\"state==@ab_o_state\")\n",
    "            trade_state_jobs_calc = trade_state_jobs_orig.copy()\n",
    "            trade_state_jobs_calc.iloc[:,1:] = trade_state_jobs_calc.iloc[:,1:]*this_usage\n",
    "            if o_state == outsource_list[0]:\n",
    "                all_state_jobs_trade = trade_state_jobs_calc\n",
    "            else:\n",
    "                all_state_jobs_trade = all_state_jobs_trade.append(trade_state_jobs_calc)\n",
    "\n",
    "        all_state_jobs_trade[\"year\"] = year\n",
    "        all_state_jobs_trade[\"tech\"] = fuelname+\"-trade\"\n",
    "        all_state_jobs_trade[\"type\"] = \"OM\"\n",
    "    \n",
    "    # if these job numbers are all zero, then replace the dataframe with zero\n",
    "    if isinstance(all_state_jobs_trade, pd.DataFrame) and (all_state_jobs_trade['Mining'] == 0).all():\n",
    "        all_state_jobs_trade = 0\n",
    "    \n",
    "    return all_state_jobs_trade"
   ]
  },
  {
   "cell_type": "code",
   "execution_count": null,
   "metadata": {},
   "outputs": [],
   "source": []
  }
 ],
 "metadata": {
  "kernelspec": {
   "display_name": "Python 3",
   "language": "python",
   "name": "python3"
  },
  "language_info": {
   "codemirror_mode": {
    "name": "ipython",
    "version": 3
   },
   "file_extension": ".py",
   "mimetype": "text/x-python",
   "name": "python",
   "nbconvert_exporter": "python",
   "pygments_lexer": "ipython3",
   "version": "3.8.5"
  }
 },
 "nbformat": 4,
 "nbformat_minor": 4
}
