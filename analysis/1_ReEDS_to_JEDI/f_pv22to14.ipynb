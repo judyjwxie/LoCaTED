{
 "cells": [
  {
   "cell_type": "code",
   "execution_count": null,
   "metadata": {},
   "outputs": [],
   "source": [
    "import pandas as pd\n",
    "import numpy as np\n",
    "import matplotlib\n",
    "import matplotlib.pyplot as plt\n",
    "import seaborn as sns\n",
    "import glob\n",
    "import os, os.path\n",
    "from matplotlib.patches import Patch\n",
    "from matplotlib.lines import Line2D\n",
    "import xlwings as xw"
   ]
  },
  {
   "cell_type": "code",
   "execution_count": 1,
   "metadata": {},
   "outputs": [],
   "source": [
    "def convert_pv_jobs(pvjobs):\n",
    "    pv_ind1 = pd.read_excel(\"pv_industries.xlsx\",sheet_name = \"Sheet1\")\n",
    "    pv_ind2 = pd.read_excel(\"pv_industries.xlsx\",sheet_name = \"Sheet2\")\n",
    "    pv_ind = pd.merge(pv_ind1,pv_ind2,left_on=\"jedi_industry\",right_on=\"jedi_industry\")\n",
    "    if len(pvjobs) == 1:\n",
    "        output_jobs = pvjobs\n",
    "    elif len(pvjobs)==23:\n",
    "        pv_ind[\"jobs\"] = pvjobs[:-1]\n",
    "        pv_ind = pv_ind.groupby(\"jedi_ind\").sum()\n",
    "        output_jobs = pv_ind[\"jobs\"]\n",
    "        output_jobs = np.append(output_jobs, pvjobs[-1])\n",
    "    else:\n",
    "        pv_ind[\"jobs\"] = pvjobs\n",
    "        pv_ind = pv_ind.groupby(\"jedi_ind\").sum()\n",
    "        output_jobs = pv_ind[\"jobs\"]\n",
    "    return output_jobs"
   ]
  },
  {
   "cell_type": "code",
   "execution_count": null,
   "metadata": {},
   "outputs": [],
   "source": []
  }
 ],
 "metadata": {
  "kernelspec": {
   "display_name": "Python 3",
   "language": "python",
   "name": "python3"
  },
  "language_info": {
   "codemirror_mode": {
    "name": "ipython",
    "version": 3
   },
   "file_extension": ".py",
   "mimetype": "text/x-python",
   "name": "python",
   "nbconvert_exporter": "python",
   "pygments_lexer": "ipython3",
   "version": "3.8.5"
  }
 },
 "nbformat": 4,
 "nbformat_minor": 4
}
