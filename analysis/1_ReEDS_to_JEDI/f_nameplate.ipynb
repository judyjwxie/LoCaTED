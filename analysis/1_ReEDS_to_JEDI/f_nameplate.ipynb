{
 "cells": [
  {
   "cell_type": "code",
   "execution_count": 1,
   "metadata": {},
   "outputs": [],
   "source": [
    "# packages\n",
    "import pandas as pd\n",
    "import numpy as np\n",
    "import matplotlib\n",
    "import matplotlib.pyplot as plt\n",
    "import seaborn as sns\n",
    "import glob\n",
    "from matplotlib.patches import Patch\n",
    "from matplotlib.lines import Line2D"
   ]
  },
  {
   "cell_type": "code",
   "execution_count": 36,
   "metadata": {},
   "outputs": [],
   "source": [
    "historical = pd.read_excel(r\"../Nameplate_Capacity/EIA860_2020_nameplate_statistics_natl_plant_post1990.xlsx\")\n",
    "tech_spec = pd.read_excel(\"tech_specs.xlsx\",sheet_name=\"originals\")"
   ]
  },
  {
   "cell_type": "code",
   "execution_count": 47,
   "metadata": {},
   "outputs": [],
   "source": [
    "def calc_nameplate(state_name,tech_name,cap_scen):\n",
    "    # technologies modified by user are not eligible\n",
    "    this_row = historical.query(\"ReEDS_technology==@tech_name\").query(\"State==@state_name\")\n",
    "    if \"pv\" in tech_name:\n",
    "        tech_name = \"pv\"\n",
    "    # reformat\n",
    "    translate_table = str.maketrans({' ': '-'})\n",
    "    tech_name = tech_name.translate(translate_table)\n",
    "    \n",
    "    if len(this_row) == 1:\n",
    "        # the technology exists in the list for the state\n",
    "        mid_val = this_row[\"Median\"].iloc[0]\n",
    "        low_val = this_row[\"LowerQuartile\"].iloc[0]\n",
    "        high_val = this_row[\"HigherQuartile\"].iloc[0]\n",
    "    elif len(historical.query(\"ReEDS_technology==@tech_name\"))> 0 and len(this_row) == 0:\n",
    "        # the technology exists but not for the state, assume natl avg\n",
    "        natl_row = historical.query(\"ReEDS_technology==@tech_name\").query(\"State=='Natl'\")\n",
    "        mid_val = natl_row[\"Median\"].iloc[0]\n",
    "        low_val = natl_row[\"LowerQuartile\"].iloc[0]\n",
    "        high_val = natl_row[\"HigherQuartile\"].iloc[0]\n",
    "    elif len(historical.query(\"ReEDS_technology==@tech_name\")) == 0:\n",
    "        # the technology doesn't exist, use default JEDI value\n",
    "        tech_orig = tech_spec.query(\"tech==@tech_name\")\n",
    "        mid_val = tech_orig[\"orginal MW\"].iloc[0]\n",
    "        low_val = tech_orig[\"orginal MW\"].iloc[0]\n",
    "        high_val = tech_orig[\"orginal MW\"].iloc[0]\n",
    "\n",
    "    if cap_scen == 'mid':\n",
    "        output_val = mid_val\n",
    "    elif cap_scen == 'low':\n",
    "        output_val = low_val\n",
    "    elif cap_scen == 'high':\n",
    "        output_val = high_val\n",
    "\n",
    "    if \"pv\" in tech_name or \"battery\" in tech_name:\n",
    "        output_val = output_val*1000\n",
    "\n",
    "    return output_val"
   ]
  },
  {
   "cell_type": "code",
   "execution_count": null,
   "metadata": {},
   "outputs": [],
   "source": []
  }
 ],
 "metadata": {
  "kernelspec": {
   "display_name": "Python 3",
   "language": "python",
   "name": "python3"
  },
  "language_info": {
   "codemirror_mode": {
    "name": "ipython",
    "version": 3
   },
   "file_extension": ".py",
   "mimetype": "text/x-python",
   "name": "python",
   "nbconvert_exporter": "python",
   "pygments_lexer": "ipython3",
   "version": "3.8.5"
  }
 },
 "nbformat": 4,
 "nbformat_minor": 4
}
