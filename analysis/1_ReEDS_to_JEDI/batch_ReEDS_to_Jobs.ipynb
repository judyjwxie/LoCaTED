{
 "cells": [
  {
   "cell_type": "code",
   "execution_count": 1,
   "metadata": {},
   "outputs": [],
   "source": [
    "# packages\n",
    "import pandas as pd\n",
    "import numpy as np\n",
    "import matplotlib\n",
    "import matplotlib.pyplot as plt\n",
    "import seaborn as sns\n",
    "import glob\n",
    "import os, os.path\n",
    "from matplotlib.patches import Patch\n",
    "from matplotlib.lines import Line2D\n",
    "import xlwings as xw\n",
    "import time\n",
    "from datetime import datetime"
   ]
  },
  {
   "cell_type": "code",
   "execution_count": 2,
   "metadata": {},
   "outputs": [],
   "source": [
    "from ipynb.fs.full.f_newbuild import calc_new_build\n",
    "from ipynb.fs.full.f_pv22to14 import convert_pv_jobs\n",
    "from ipynb.fs.full.f_transmission import calculate_transmission_jobs\n",
    "from ipynb.fs.full.f_fuel_trade import fuel_trade_jobs\n",
    "from ipynb.fs.full.f_nameplate import calc_nameplate\n",
    "from ipynb.fs.full.f_ReEDS_to_Jobs_v6 import ReEDS_to_Jobs"
   ]
  },
  {
   "cell_type": "code",
   "execution_count": 3,
   "metadata": {},
   "outputs": [],
   "source": [
    "orig_scen = []\n",
    "sc_list = orig_scen.copy()\n",
    "for os in orig_scen:\n",
    "    #new1 = os+\"_95_by_2050\"\n",
    "    new2 = os+\"_95_by_2035\"\n",
    "    #sc_list += [new1]\n",
    "    sc_list += [new2]\n",
    "    sc_list.remove(os)\n",
    "\n",
    "analysis_list = [\"v6.2\"]\n",
    "capfac_list = [\"mid\",\"low\",\"high\"] # \"mid\",\"low\",\"high\"\n",
    "nuclear_list = [\"nei\"]"
   ]
  },
  {
   "cell_type": "code",
   "execution_count": 4,
   "metadata": {},
   "outputs": [],
   "source": [
    "dateTimeObj = datetime.now()\n",
    "filestamp = dateTimeObj.strftime(\"%d%b%Y_%H%M%S\")\n",
    "file = open(r\"output/batch_run_report_\"+filestamp+\".txt\", \"a\")\n",
    "for sc in sc_list:\n",
    "    for analysis in analysis_list:\n",
    "        for capfac_scenarios in capfac_list:\n",
    "            for tech_nuclear in nuclear_list:\n",
    "                dateTimeObj = datetime.now()\n",
    "                timestamp = dateTimeObj.strftime(\"%d-%b-%Y (%H:%M:%S.%f)\")\n",
    "                runtime = ReEDS_to_Jobs(analysis,capfac_scenarios,tech_nuclear,sc)\n",
    "                content = timestamp+\"_\"+sc+\"_\"+analysis+\"_\"+capfac_scenarios+\"_\"+tech_nuclear+\"_\"+runtime+\"min\"\n",
    "                file = open(r\"output/batch_run_report_\"+filestamp+\".txt\", \"a\")\n",
    "                file.write(content)\n",
    "                file.write(\"\\n\")\n",
    "                file.close()"
   ]
  },
  {
   "cell_type": "code",
   "execution_count": 5,
   "metadata": {},
   "outputs": [],
   "source": [
    "file.close()"
   ]
  },
  {
   "cell_type": "code",
   "execution_count": null,
   "metadata": {},
   "outputs": [],
   "source": []
  }
 ],
 "metadata": {
  "kernelspec": {
   "display_name": "Python 3",
   "language": "python",
   "name": "python3"
  },
  "language_info": {
   "codemirror_mode": {
    "name": "ipython",
    "version": 3
   },
   "file_extension": ".py",
   "mimetype": "text/x-python",
   "name": "python",
   "nbconvert_exporter": "python",
   "pygments_lexer": "ipython3",
   "version": "3.8.5"
  }
 },
 "nbformat": 4,
 "nbformat_minor": 4
}
