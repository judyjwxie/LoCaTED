{
 "cells": [
  {
   "cell_type": "code",
   "execution_count": 7,
   "metadata": {},
   "outputs": [],
   "source": [
    "# packages\n",
    "import pandas as pd\n",
    "import numpy as np\n",
    "import matplotlib\n",
    "import matplotlib.pyplot as plt\n",
    "import seaborn as sns\n",
    "import glob\n",
    "import os, os.path\n",
    "from matplotlib.patches import Patch\n",
    "from matplotlib.lines import Line2D\n",
    "import xlwings as xw"
   ]
  },
  {
   "cell_type": "markdown",
   "metadata": {},
   "source": [
    "According to standard scenario settings:\n",
    "- Low_Trans: intra-rto only; default future; BA-BA transmission cost multiplier 5; Allowed extent of multi-link transmission paths: rto_agg\n",
    "- High_Trans: allow new AC-DC-AC interties; HVDC_20210424WindRef_3500MWcutoff2 future"
   ]
  },
  {
   "cell_type": "code",
   "execution_count": null,
   "metadata": {},
   "outputs": [],
   "source": [
    "def calculate_transmission_jobs(sc):\n",
    "    \n",
    "    if \"Low_Trans\" in sc:\n",
    "        initial_name = \"transmission_initial_om_jobs_limited\"\n",
    "        future_name = \"transmission_future_jobs_default_limited\"\n",
    "    elif \"High_Trans\" in sc:\n",
    "        initial_name = \"transmission_initial_om_jobs\"\n",
    "        future_name = \"transmission_future_jobs_HVDC\"\n",
    "    else: # other scenarios\n",
    "        initial_name = \"transmission_initial_om_jobs\"\n",
    "        future_name = \"transmission_future_jobs_default\"\n",
    "        \n",
    "    initial_jobs = pd.read_csv(r\"../../data/ReEDS/transmission/\"+initial_name+\".csv\")\n",
    "    future_jobs = pd.read_csv(r\"../../data/ReEDS/transmission/\"+future_name+\".csv\")\n",
    "    all_jobs = initial_jobs.append(future_jobs)\n",
    "    all_jobs = all_jobs.groupby([\"i\",\"state\",\"tech\",\"type\"]).sum()\n",
    "    all_jobs = all_jobs.reset_index().set_index(\"i\")\n",
    "    \n",
    "    return all_jobs"
   ]
  },
  {
   "cell_type": "code",
   "execution_count": null,
   "metadata": {},
   "outputs": [],
   "source": []
  }
 ],
 "metadata": {
  "kernelspec": {
   "display_name": "Python 3",
   "language": "python",
   "name": "python3"
  },
  "language_info": {
   "codemirror_mode": {
    "name": "ipython",
    "version": 3
   },
   "file_extension": ".py",
   "mimetype": "text/x-python",
   "name": "python",
   "nbconvert_exporter": "python",
   "pygments_lexer": "ipython3",
   "version": "3.8.5"
  }
 },
 "nbformat": 4,
 "nbformat_minor": 4
}
